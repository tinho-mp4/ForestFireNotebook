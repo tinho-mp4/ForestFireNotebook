{
  "nbformat": 4,
  "nbformat_minor": 0,
  "metadata": {
    "colab": {
      "provenance": [],
      "name": " 2220820_notebook.ipynb.ipynb",
      "authorship_tag": "ABX9TyOQiFu95ob27HGknJ5OmhwQ",
      "include_colab_link": true
    },
    "kernelspec": {
      "name": "python3",
      "display_name": "Python 3"
    },
    "language_info": {
      "name": "python"
    }
  },
  "cells": [
    {
      "cell_type": "markdown",
      "metadata": {
        "id": "view-in-github",
        "colab_type": "text"
      },
      "source": [
        "<a href=\"https://colab.research.google.com/github/tinho-mp4/2220820notebook/blob/main/2220820_notebook.ipynb\" target=\"_parent\"><img src=\"https://colab.research.google.com/assets/colab-badge.svg\" alt=\"Open In Colab\"/></a>"
      ]
    },
    {
      "cell_type": "markdown",
      "source": [
        "# Introduction\n",
        "Provide an overview of the problem and your proposed solution. Describe\n",
        "the problem in detail and read around to provide context to the problem.\n"
      ],
      "metadata": {
        "id": "QFLsvnIGCe8I"
      }
    },
    {
      "cell_type": "markdown",
      "source": [
        "## Data Description and Exploratory Analysis\n",
        "Provide a description of the dataset you have selected and its properties.\n",
        "Provide exploratory data analysis into the dataset. This should include\n",
        "descriptive statistics of interest, and visualisations which provide some\n",
        "initial insight."
      ],
      "metadata": {
        "id": "uFOBUZw3CoI2"
      }
    },
    {
      "cell_type": "markdown",
      "source": [
        "\n",
        "## Build the Model(s)\n",
        "Describe, and implement, a model(s) to attempt to solve the interesting\n",
        "questions asked of your chosen dataset. You are able to use any of the\n",
        "techniques taught in the module and labs (Note: some may not be relevant for the task).\n"
      ],
      "metadata": {
        "id": "_rwfA1JhCagT"
      }
    },
    {
      "cell_type": "markdown",
      "source": [
        "## Discussion of Results\n",
        "Present your findings. This may be with plots or tables of results, whatever\n",
        "is suitable for your chosen method above.\n"
      ],
      "metadata": {
        "id": "AtClRXX4CuwE"
      }
    },
    {
      "cell_type": "markdown",
      "source": [
        "## Conclusion\n",
        "Provide a brief summary of the results. Provide critical analysis; including\n",
        "shortcomings of the methods and how they may be improved.\n"
      ],
      "metadata": {
        "id": "GU8vS1r3Cu-u"
      }
    },
    {
      "cell_type": "markdown",
      "source": [
        "## References\n",
        "Provide references for any additional information you use, as required."
      ],
      "metadata": {
        "id": "YZBhckWMCvI-"
      }
    }
  ]
}